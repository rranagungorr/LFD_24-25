{
 "cells": [
  {
   "cell_type": "code",
   "id": "initial_id",
   "metadata": {
    "collapsed": true,
    "ExecuteTime": {
     "end_time": "2025-01-14T14:57:12.600201Z",
     "start_time": "2025-01-14T14:57:08.942235Z"
    }
   },
   "source": [
    "from meteostat import Point, Hourly\n",
    "from datetime import datetime\n",
    "import os\n",
    "\n",
    "# İstanbul'un koordinatları\n",
    "istanbul = Point(41.0082, 28.9784, 40)  # Enlem, boylam, rakım (m)\n",
    "\n",
    "# Başlangıç ve bitiş tarihlerini ayarla\n",
    "start_date = datetime(2019, 1, 1, 0)  # Başlangıç: 1 Ocak 2019 00:00\n",
    "end_date = datetime(2023, 8, 27, 19)  # Bitiş: 27 Ağustos 2023 19:00\n",
    "\n",
    "# Saatlik hava durumu verilerini çek\n",
    "data = Hourly(istanbul, start_date, end_date)\n",
    "data = data.fetch()\n",
    "\n",
    "# Çalışma dizinini belirle\n",
    "current_dir = os.getcwd()  # Jupyter veya interaktif mod için\n",
    "raw_dir = os.path.join(current_dir, \"data\", \"raw\")\n",
    "\n",
    "# Eğer raw klasörü yoksa oluştur\n",
    "os.makedirs(raw_dir, exist_ok=True)\n",
    "\n",
    "# CSV dosyasını kaydet\n",
    "file_path = os.path.join(raw_dir, \"istanbul_hava_durumu.csv\")\n",
    "data.to_csv(file_path)\n",
    "\n",
    "print(f\"Veri başarıyla kaydedildi: {file_path}\")\n"
   ],
   "outputs": [
    {
     "name": "stderr",
     "output_type": "stream",
     "text": [
      "Warning: Cannot load hourly/2019/17062.csv.gz from https://bulk.meteostat.net/v2/\n",
      "Warning: Cannot load hourly/2020/17062.csv.gz from https://bulk.meteostat.net/v2/\n",
      "Warning: Cannot load hourly/2021/17062.csv.gz from https://bulk.meteostat.net/v2/\n",
      "Warning: Cannot load hourly/2022/17062.csv.gz from https://bulk.meteostat.net/v2/\n"
     ]
    },
    {
     "name": "stdout",
     "output_type": "stream",
     "text": [
      "Veri başarıyla kaydedildi: C:\\Users\\PC\\Documents\\GitHub\\LFD_24-25\\notebooks\\data\\raw\\istanbul_hava_durumu.csv\n"
     ]
    }
   ],
   "execution_count": 3
  },
  {
   "metadata": {},
   "cell_type": "code",
   "outputs": [],
   "execution_count": null,
   "source": "",
   "id": "9343b735c25c20a8"
  }
 ],
 "metadata": {
  "kernelspec": {
   "display_name": "Python 3",
   "language": "python",
   "name": "python3"
  },
  "language_info": {
   "codemirror_mode": {
    "name": "ipython",
    "version": 2
   },
   "file_extension": ".py",
   "mimetype": "text/x-python",
   "name": "python",
   "nbconvert_exporter": "python",
   "pygments_lexer": "ipython2",
   "version": "2.7.6"
  }
 },
 "nbformat": 4,
 "nbformat_minor": 5
}
