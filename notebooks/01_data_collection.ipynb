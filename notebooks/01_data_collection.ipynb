{
 "cells": [
  {
   "metadata": {
    "ExecuteTime": {
     "end_time": "2025-01-19T15:18:34.733516Z",
     "start_time": "2025-01-19T15:18:32.720914Z"
    }
   },
   "cell_type": "code",
   "source": [
    "from meteostat import Point, Hourly\n",
    "import pandas as pd\n",
    "from datetime import datetime\n",
    "\n",
    "# Şehirlerin koordinatları\n",
    "cities = {\n",
    "    \"Istanbul\": Point(41.0082, 28.9784),  # İstanbul koordinatları\n",
    "    \"Izmir\": Point(38.4192, 27.1287),  # İzmir koordinatları\n",
    "    \"Antalya\": Point(36.8969, 30.7133)  # Antalya koordinatları\n",
    "}\n",
    "\n",
    "# SMFDB ile uyumlu tarih aralığı\n",
    "start_date = datetime(2019, 1, 1, 0)  # Başlangıç: 2022-01-01 00:00\n",
    "end_date = datetime(2023, 8, 27, 19)  # Bitiş: 2022-12-31 23:00\n",
    "\n",
    "# Verileri çek ve kaydet\n",
    "for city, point in cities.items():\n",
    "    # Saatlik hava durumu verilerini çek\n",
    "    data = Hourly(point, start_date, end_date)\n",
    "    data = data.fetch()\n",
    "\n",
    "    # CSV'ye kaydet\n",
    "    file_path = r\"C:\\Users\\PC\\Documents\\GitHub\\LFD_24-25\\data\\raw\"\n",
    "    data.to_csv(file_path + f\"{city}_hourly_weather.csv\")\n",
    "    print(f\"{city} saatlik hava durumu verileri {file_path} dosyasına kaydedildi.\")\n"
   ],
   "id": "9343b735c25c20a8",
   "outputs": [
    {
     "name": "stdout",
     "output_type": "stream",
     "text": [
      "Istanbul saatlik hava durumu verileri C:\\Users\\PC\\Documents\\GitHub\\LFD_24-25\\data\\raw dosyasına kaydedildi.\n",
      "Izmir saatlik hava durumu verileri C:\\Users\\PC\\Documents\\GitHub\\LFD_24-25\\data\\raw dosyasına kaydedildi.\n",
      "Antalya saatlik hava durumu verileri C:\\Users\\PC\\Documents\\GitHub\\LFD_24-25\\data\\raw dosyasına kaydedildi.\n"
     ]
    }
   ],
   "execution_count": 2
  }
 ],
 "metadata": {
  "kernelspec": {
   "display_name": "Python 3",
   "language": "python",
   "name": "python3"
  },
  "language_info": {
   "codemirror_mode": {
    "name": "ipython",
    "version": 2
   },
   "file_extension": ".py",
   "mimetype": "text/x-python",
   "name": "python",
   "nbconvert_exporter": "python",
   "pygments_lexer": "ipython2",
   "version": "2.7.6"
  }
 },
 "nbformat": 4,
 "nbformat_minor": 5
}
